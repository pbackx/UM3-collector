{
 "cells": [
  {
   "cell_type": "code",
   "execution_count": 1,
   "metadata": {},
   "outputs": [],
   "source": [
    "%matplotlib inline\n",
    "\n",
    "import urllib3\n",
    "import pandas as pd\n",
    "import matplotlib.pyplot as plt"
   ]
  },
  {
   "cell_type": "code",
   "execution_count": 2,
   "metadata": {},
   "outputs": [],
   "source": [
    "# Replace the IP address with the one for your printer\n",
    "http = urllib3.PoolManager()\n",
    "r = http.request('GET', 'http://192.168.0.151/api/v1/printer/diagnostics/temperature_flow/3000')"
   ]
  },
  {
   "cell_type": "code",
   "execution_count": 3,
   "metadata": {},
   "outputs": [],
   "source": [
    "diagnostics = pd.read_json(r.data)\n",
    "diagnostics.rename(columns={c:diagnostics.at[0,c] for c in diagnostics}, inplace=True)\n",
    "diagnostics.drop(diagnostics.head(1).index, inplace=True)"
   ]
  },
  {
   "cell_type": "code",
   "execution_count": 4,
   "metadata": {},
   "outputs": [
    {
     "data": {
      "text/html": [
       "<div>\n",
       "<style scoped>\n",
       "    .dataframe tbody tr th:only-of-type {\n",
       "        vertical-align: middle;\n",
       "    }\n",
       "\n",
       "    .dataframe tbody tr th {\n",
       "        vertical-align: top;\n",
       "    }\n",
       "\n",
       "    .dataframe thead th {\n",
       "        text-align: right;\n",
       "    }\n",
       "</style>\n",
       "<table border=\"1\" class=\"dataframe\">\n",
       "  <thead>\n",
       "    <tr style=\"text-align: right;\">\n",
       "      <th></th>\n",
       "      <th>Time</th>\n",
       "      <th>temperature0</th>\n",
       "      <th>target0</th>\n",
       "      <th>heater0</th>\n",
       "      <th>flow_sensor0</th>\n",
       "      <th>flow_steps0</th>\n",
       "      <th>temperature1</th>\n",
       "      <th>target1</th>\n",
       "      <th>heater1</th>\n",
       "      <th>flow_sensor1</th>\n",
       "      <th>flow_steps1</th>\n",
       "      <th>bed_temperature</th>\n",
       "      <th>bed_target</th>\n",
       "      <th>bed_heater</th>\n",
       "      <th>active_hotend_or_state</th>\n",
       "    </tr>\n",
       "  </thead>\n",
       "  <tbody>\n",
       "    <tr>\n",
       "      <th>1</th>\n",
       "      <td>14941.4</td>\n",
       "      <td>205</td>\n",
       "      <td>205</td>\n",
       "      <td>134</td>\n",
       "      <td>0</td>\n",
       "      <td>0</td>\n",
       "      <td>39.7</td>\n",
       "      <td>0</td>\n",
       "      <td>0</td>\n",
       "      <td>0</td>\n",
       "      <td>0</td>\n",
       "      <td>59.4</td>\n",
       "      <td>60</td>\n",
       "      <td>135</td>\n",
       "      <td>0</td>\n",
       "    </tr>\n",
       "    <tr>\n",
       "      <th>2</th>\n",
       "      <td>14941.5</td>\n",
       "      <td>205</td>\n",
       "      <td>205</td>\n",
       "      <td>133</td>\n",
       "      <td>0</td>\n",
       "      <td>0</td>\n",
       "      <td>39.7</td>\n",
       "      <td>0</td>\n",
       "      <td>0</td>\n",
       "      <td>0</td>\n",
       "      <td>0</td>\n",
       "      <td>59.9</td>\n",
       "      <td>60</td>\n",
       "      <td>40</td>\n",
       "      <td>0</td>\n",
       "    </tr>\n",
       "    <tr>\n",
       "      <th>3</th>\n",
       "      <td>14941.7</td>\n",
       "      <td>205</td>\n",
       "      <td>205</td>\n",
       "      <td>133</td>\n",
       "      <td>0</td>\n",
       "      <td>0</td>\n",
       "      <td>39.7</td>\n",
       "      <td>0</td>\n",
       "      <td>0</td>\n",
       "      <td>0</td>\n",
       "      <td>0</td>\n",
       "      <td>60</td>\n",
       "      <td>60</td>\n",
       "      <td>87</td>\n",
       "      <td>0</td>\n",
       "    </tr>\n",
       "    <tr>\n",
       "      <th>4</th>\n",
       "      <td>14941.8</td>\n",
       "      <td>205.2</td>\n",
       "      <td>205</td>\n",
       "      <td>133</td>\n",
       "      <td>0</td>\n",
       "      <td>0</td>\n",
       "      <td>39.7</td>\n",
       "      <td>0</td>\n",
       "      <td>0</td>\n",
       "      <td>0</td>\n",
       "      <td>0</td>\n",
       "      <td>59.6</td>\n",
       "      <td>60</td>\n",
       "      <td>135</td>\n",
       "      <td>0</td>\n",
       "    </tr>\n",
       "    <tr>\n",
       "      <th>5</th>\n",
       "      <td>14941.9</td>\n",
       "      <td>205.2</td>\n",
       "      <td>205</td>\n",
       "      <td>132</td>\n",
       "      <td>0</td>\n",
       "      <td>0</td>\n",
       "      <td>39.7</td>\n",
       "      <td>0</td>\n",
       "      <td>0</td>\n",
       "      <td>0</td>\n",
       "      <td>0</td>\n",
       "      <td>59.3</td>\n",
       "      <td>60</td>\n",
       "      <td>158</td>\n",
       "      <td>0</td>\n",
       "    </tr>\n",
       "  </tbody>\n",
       "</table>\n",
       "</div>"
      ],
      "text/plain": [
       "      Time temperature0 target0 heater0 flow_sensor0 flow_steps0 temperature1  \\\n",
       "1  14941.4          205     205     134            0           0         39.7   \n",
       "2  14941.5          205     205     133            0           0         39.7   \n",
       "3  14941.7          205     205     133            0           0         39.7   \n",
       "4  14941.8        205.2     205     133            0           0         39.7   \n",
       "5  14941.9        205.2     205     132            0           0         39.7   \n",
       "\n",
       "  target1 heater1 flow_sensor1 flow_steps1 bed_temperature bed_target  \\\n",
       "1       0       0            0           0            59.4         60   \n",
       "2       0       0            0           0            59.9         60   \n",
       "3       0       0            0           0              60         60   \n",
       "4       0       0            0           0            59.6         60   \n",
       "5       0       0            0           0            59.3         60   \n",
       "\n",
       "  bed_heater active_hotend_or_state  \n",
       "1        135                      0  \n",
       "2         40                      0  \n",
       "3         87                      0  \n",
       "4        135                      0  \n",
       "5        158                      0  "
      ]
     },
     "execution_count": 4,
     "metadata": {},
     "output_type": "execute_result"
    }
   ],
   "source": [
    "diagnostics.head()"
   ]
  },
  {
   "cell_type": "code",
   "execution_count": 5,
   "metadata": {},
   "outputs": [
    {
     "data": {
      "text/plain": [
       "<matplotlib.axes._subplots.AxesSubplot at 0x195cb649208>"
      ]
     },
     "execution_count": 5,
     "metadata": {},
     "output_type": "execute_result"
    },
    {
     "data": {
      "text/plain": [
       "<matplotlib.figure.Figure at 0x195cb54ce80>"
      ]
     },
     "metadata": {},
     "output_type": "display_data"
    },
    {
     "data": {
      "image/png": "[encoded data removed]",
      "text/plain": [
       "<matplotlib.figure.Figure at 0x195cb5b78d0>"
      ]
     },
     "metadata": {},
     "output_type": "display_data"
    }
   ],
   "source": [
    "plt.figure()\n",
    "diagnostics.plot(x='Time', y='temperature0')"
   ]
  }
 ],
 "metadata": {
  "kernelspec": {
   "display_name": "Python 3",
   "language": "python",
   "name": "python3"
  },
  "language_info": {
   "codemirror_mode": {
    "name": "ipython",
    "version": 3
   },
   "file_extension": ".py",
   "mimetype": "text/x-python",
   "name": "python",
   "nbconvert_exporter": "python",
   "pygments_lexer": "ipython3",
   "version": "3.6.3"
  }
 },
 "nbformat": 4,
 "nbformat_minor": 2
}
